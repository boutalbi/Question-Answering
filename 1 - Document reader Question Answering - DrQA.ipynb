{
  "nbformat": 4,
  "nbformat_minor": 0,
  "metadata": {
    "colab": {
      "name": "1 - Document reader Question Answering - DrQA.ipynb",
      "provenance": [],
      "collapsed_sections": [],
      "authorship_tag": "ABX9TyNJ3S7XHIgTjRfUEXVkO1MS",
      "include_colab_link": true
    },
    "kernelspec": {
      "name": "python3",
      "display_name": "Python 3"
    },
    "accelerator": "GPU"
  },
  "cells": [
    {
      "cell_type": "markdown",
      "metadata": {
        "id": "view-in-github",
        "colab_type": "text"
      },
      "source": [
        "<a href=\"https://colab.research.google.com/github/dksifoua/Question-Answering/blob/master/1%20-%20Document%20reader%20Question%20Answering%20-%20DrQA.ipynb\" target=\"_parent\"><img src=\"https://colab.research.google.com/assets/colab-badge.svg\" alt=\"Open In Colab\"/></a>"
      ]
    },
    {
      "cell_type": "code",
      "metadata": {
        "id": "3h8encuudFC-",
        "outputId": "18592b01-e571-4183-95ae-e6a10e060ac2",
        "colab": {
          "base_uri": "https://localhost:8080/",
          "height": 357
        }
      },
      "source": [
        "!nvidia-smi"
      ],
      "execution_count": 1,
      "outputs": [
        {
          "output_type": "stream",
          "text": [
            "Sun Oct 11 07:12:52 2020       \n",
            "+-----------------------------------------------------------------------------+\n",
            "| NVIDIA-SMI 455.23.05    Driver Version: 418.67       CUDA Version: 10.1     |\n",
            "|-------------------------------+----------------------+----------------------+\n",
            "| GPU  Name        Persistence-M| Bus-Id        Disp.A | Volatile Uncorr. ECC |\n",
            "| Fan  Temp  Perf  Pwr:Usage/Cap|         Memory-Usage | GPU-Util  Compute M. |\n",
            "|                               |                      |               MIG M. |\n",
            "|===============================+======================+======================|\n",
            "|   0  Tesla P100-PCIE...  Off  | 00000000:00:04.0 Off |                    0 |\n",
            "| N/A   31C    P0    25W / 250W |      0MiB / 16280MiB |      0%      Default |\n",
            "|                               |                      |                 ERR! |\n",
            "+-------------------------------+----------------------+----------------------+\n",
            "                                                                               \n",
            "+-----------------------------------------------------------------------------+\n",
            "| Processes:                                                                  |\n",
            "|  GPU   GI   CI        PID   Type   Process name                  GPU Memory |\n",
            "|        ID   ID                                                   Usage      |\n",
            "|=============================================================================|\n",
            "|  No running processes found                                                 |\n",
            "+-----------------------------------------------------------------------------+\n"
          ],
          "name": "stdout"
        }
      ]
    },
    {
      "cell_type": "markdown",
      "metadata": {
        "id": "aFHeYfTa5iBg"
      },
      "source": [
        "## Load Dependencies"
      ]
    },
    {
      "cell_type": "code",
      "metadata": {
        "id": "1cIZzQAImLQO"
      },
      "source": [
        "!pip install tqdm --upgrade >> /dev/null 2>&1\n",
        "!pip install torchtext --upgrade >> /dev/null 2>&1\n",
        "!pip install spacy --upgrade >> /dev/null 2>&1\n",
        "!python -m spacy download en >> /dev/null 2>&1"
      ],
      "execution_count": 2,
      "outputs": []
    },
    {
      "cell_type": "code",
      "metadata": {
        "id": "5gHtnSaemPVM"
      },
      "source": [
        "import re\n",
        "import json\n",
        "import tqdm\n",
        "import spacy\n",
        "import warnings\n",
        "import collections\n",
        "import numpy as np\n",
        "import pandas as pd\n",
        "import matplotlib.pyplot as plt\n",
        "%matplotlib inline\n",
        "\n",
        "from IPython.core.display import display, HTML\n",
        "\n",
        "import torch\n",
        "import torch.nn as nn\n",
        "import torch.nn.functional as F\n",
        "import torch.optim as optim\n",
        "\n",
        "from torchtext.data import Dataset, Example, Field\n",
        "from torchtext.data.iterator import BucketIterator\n",
        "from torchtext.data.metrics import bleu_score"
      ],
      "execution_count": 3,
      "outputs": []
    },
    {
      "cell_type": "code",
      "metadata": {
        "id": "_Q7DBR5gmTZa",
        "outputId": "00e16fc9-6177-4c22-f3f6-ba7646ff7bfa",
        "colab": {
          "base_uri": "https://localhost:8080/",
          "height": 34
        }
      },
      "source": [
        "warnings.simplefilter(action='ignore', category=UserWarning)\n",
        "warnings.simplefilter(action='ignore', category=FutureWarning)\n",
        "warnings.simplefilter(action='ignore', category=RuntimeWarning)\n",
        "warnings.simplefilter(action='ignore', category=DeprecationWarning)\n",
        "\n",
        "SEED = 546\n",
        "np.random.seed(SEED)\n",
        "torch.manual_seed(SEED)\n",
        "torch.cuda.manual_seed(SEED)\n",
        "torch.backends.cudnn.deterministic = True\n",
        "\n",
        "DEVICE = torch.device('cuda' if torch.cuda.is_available() else 'cpu')\n",
        "print(f'Device: {DEVICE}')"
      ],
      "execution_count": 4,
      "outputs": [
        {
          "output_type": "stream",
          "text": [
            "Device: cuda\n"
          ],
          "name": "stdout"
        }
      ]
    },
    {
      "cell_type": "markdown",
      "metadata": {
        "id": "uNZkKM5G5fgi"
      },
      "source": [
        "## Prepare data\n",
        "\n",
        "***Download data***"
      ]
    },
    {
      "cell_type": "code",
      "metadata": {
        "id": "sZhbHNhT4YRn",
        "outputId": "54faa3cd-69e9-475e-b9ca-527f26f0d1e3",
        "colab": {
          "base_uri": "https://localhost:8080/",
          "height": 425
        }
      },
      "source": [
        "%%time\n",
        "!mkdir -p ./data\n",
        "\n",
        "!wget --no-check-certificate \\\n",
        "    https://rajpurkar.github.io/SQuAD-explorer/dataset/train-v2.0.json \\\n",
        "    -O ./data/train.json\n",
        "\n",
        "!wget --no-check-certificate \\\n",
        "    https://rajpurkar.github.io/SQuAD-explorer/dataset/dev-v2.0.json \\\n",
        "    -O ./data/valid.json"
      ],
      "execution_count": 5,
      "outputs": [
        {
          "output_type": "stream",
          "text": [
            "--2020-10-11 07:13:20--  https://rajpurkar.github.io/SQuAD-explorer/dataset/train-v2.0.json\n",
            "Resolving rajpurkar.github.io (rajpurkar.github.io)... 185.199.108.153, 185.199.109.153, 185.199.110.153, ...\n",
            "Connecting to rajpurkar.github.io (rajpurkar.github.io)|185.199.108.153|:443... connected.\n",
            "HTTP request sent, awaiting response... 200 OK\n",
            "Length: 42123633 (40M) [application/json]\n",
            "Saving to: ‘./data/train.json’\n",
            "\n",
            "./data/train.json   100%[===================>]  40.17M   135MB/s    in 0.3s    \n",
            "\n",
            "2020-10-11 07:13:20 (135 MB/s) - ‘./data/train.json’ saved [42123633/42123633]\n",
            "\n",
            "--2020-10-11 07:13:20--  https://rajpurkar.github.io/SQuAD-explorer/dataset/dev-v2.0.json\n",
            "Resolving rajpurkar.github.io (rajpurkar.github.io)... 185.199.108.153, 185.199.109.153, 185.199.110.153, ...\n",
            "Connecting to rajpurkar.github.io (rajpurkar.github.io)|185.199.108.153|:443... connected.\n",
            "HTTP request sent, awaiting response... 200 OK\n",
            "Length: 4370528 (4.2M) [application/json]\n",
            "Saving to: ‘./data/valid.json’\n",
            "\n",
            "./data/valid.json   100%[===================>]   4.17M  27.2MB/s    in 0.2s    \n",
            "\n",
            "2020-10-11 07:13:21 (27.2 MB/s) - ‘./data/valid.json’ saved [4370528/4370528]\n",
            "\n",
            "CPU times: user 10.6 ms, sys: 18.2 ms, total: 28.9 ms\n",
            "Wall time: 946 ms\n"
          ],
          "name": "stdout"
        }
      ]
    },
    {
      "cell_type": "markdown",
      "metadata": {
        "id": "cs5S3iohgiMM"
      },
      "source": [
        "***Load data***"
      ]
    },
    {
      "cell_type": "code",
      "metadata": {
        "id": "6vTuq9jl3oUJ",
        "outputId": "54b90012-8dcf-4c80-be34-10fc5b2388b1",
        "colab": {
          "base_uri": "https://localhost:8080/",
          "height": 51
        }
      },
      "source": [
        "def load_json(path):\n",
        "    with open(path, mode='r', encoding='utf-8') as file:\n",
        "        return json.load(file)['data']\n",
        "\n",
        "train_raw = load_json(path='./data/train.json')\n",
        "valid_raw = load_json(path='./data/valid.json')\n",
        "print(f'Length of raw train data: {len(train_raw):,}')\n",
        "print(f'Length of raw valid data: {len(valid_raw):,}')"
      ],
      "execution_count": 6,
      "outputs": [
        {
          "output_type": "stream",
          "text": [
            "Length of raw train data: 442\n",
            "Length of raw valid data: 35\n"
          ],
          "name": "stdout"
        }
      ]
    },
    {
      "cell_type": "markdown",
      "metadata": {
        "id": "p6rKVZjcgmF7"
      },
      "source": [
        "***Parse data***"
      ]
    },
    {
      "cell_type": "code",
      "metadata": {
        "id": "HfhHilFU6fb_",
        "outputId": "bd7c1141-1a24-4603-9988-d53dbce89469",
        "colab": {
          "base_uri": "https://localhost:8080/",
          "height": 156
        }
      },
      "source": [
        "def parse_json(data):\n",
        "    qas = []\n",
        "    for paragraphs in data:\n",
        "        for para in paragraphs['paragraphs']:\n",
        "            context = re.sub(r'\\s', ' ', para['context'])\n",
        "            for qa in para['qas']:\n",
        "                id = qa['id']\n",
        "                question = re.sub(r'\\s', ' ', qa['question'])\n",
        "                for ans in qa['answers']:\n",
        "                    answer = re.sub(r'\\s', ' ', ans['text'])\n",
        "                    ans_start = ans['answer_start']\n",
        "                    qas.append({\n",
        "                        'id': id,\n",
        "                        'context': context,\n",
        "                        'question': question,\n",
        "                        'answer': answer,\n",
        "                        'answer_start': ans_start,\n",
        "                    })\n",
        "    return qas\n",
        "\n",
        "train_qas = parse_json(train_raw)\n",
        "valid_qas = parse_json(valid_raw)\n",
        "print(f'Length of train qa pairs: {len(train_qas):,}')\n",
        "print(f'Length of valid qa pairs: {len(valid_qas):,}')\n",
        "\n",
        "print('Id:', train_qas[0]['id'])\n",
        "print('Context:', train_qas[0]['context'])\n",
        "print('Question:', train_qas[0]['question'])\n",
        "print('Answer starts at:', train_qas[0]['answer_start'])\n",
        "print('Answer:', train_qas[0]['answer'])\n",
        "\n",
        "for i in range(len(train_qas)): # Test labels are correct in train set\n",
        "    assert train_qas[i]['answer'] == train_qas[i]['context'][train_qas[i]['answer_start']:train_qas[i]['answer_start']+len(train_qas[i]['answer'])]\n",
        "\n",
        "for i in range(len(valid_qas)): # Test labels are correct in validation set\n",
        "    assert valid_qas[i]['answer'] == valid_qas[i]['context'][valid_qas[i]['answer_start']:valid_qas[i]['answer_start']+len(valid_qas[i]['answer'])]"
      ],
      "execution_count": 7,
      "outputs": [
        {
          "output_type": "stream",
          "text": [
            "Length of train qa pairs: 86,821\n",
            "Length of valid qa pairs: 20,302\n",
            "Id: 56be85543aeaaa14008c9063\n",
            "Context: Beyoncé Giselle Knowles-Carter (/biːˈjɒnseɪ/ bee-YON-say) (born September 4, 1981) is an American singer, songwriter, record producer and actress. Born and raised in Houston, Texas, she performed in various singing and dancing competitions as a child, and rose to fame in the late 1990s as lead singer of R&B girl-group Destiny's Child. Managed by her father, Mathew Knowles, the group became one of the world's best-selling girl groups of all time. Their hiatus saw the release of Beyoncé's debut album, Dangerously in Love (2003), which established her as a solo artist worldwide, earned five Grammy Awards and featured the Billboard Hot 100 number-one singles \"Crazy in Love\" and \"Baby Boy\".\n",
            "Question: When did Beyonce start becoming popular?\n",
            "Answer starts at: 269\n",
            "Answer: in the late 1990s\n"
          ],
          "name": "stdout"
        }
      ]
    },
    {
      "cell_type": "markdown",
      "metadata": {
        "id": "vs87TY30gpOG"
      },
      "source": [
        "***Add targets***"
      ]
    },
    {
      "cell_type": "code",
      "metadata": {
        "id": "vMWsmFjjt5vB",
        "outputId": "fc919ce9-a7b2-459f-c914-32f244360d04",
        "colab": {
          "base_uri": "https://localhost:8080/",
          "height": 221
        }
      },
      "source": [
        "%%time\n",
        "def add_targets(qas, nlp=spacy.load('en')):\n",
        "    for qa in tqdm.tqdm(qas):\n",
        "        context = nlp(qa['context'], disable=['parser','tagger','ner'])\n",
        "        answer = nlp(qa['answer'], disable=['parser','tagger','ner'])\n",
        "        ans_start = qa['answer_start']\n",
        "        for i in range(len(context)):\n",
        "            if context[i].idx == ans_start:\n",
        "                ans = context[i:i + len(answer)]\n",
        "                qa['target'] = (ans[0].i, ans[-1].i)\n",
        "                break\n",
        "\n",
        "def filter_qas(qa, nlp=spacy.load('en')):\n",
        "    if 'target' in [*qa.keys()]:\n",
        "        context = nlp(qa['context'], disable=['parser','tagger','ner'])\n",
        "        start, end = qa['target']\n",
        "        return context[start:end+1].text == qa['answer']\n",
        "    return False\n",
        "\n",
        "def test_targets(qas, nlp=spacy.load('en')):\n",
        "    for qa in tqdm.tqdm(qas):\n",
        "        if 'target' in [*qa.keys()]:\n",
        "            context = nlp(qa['context'], disable=['parser','tagger','ner'])\n",
        "            start, end = qa['target']\n",
        "            assert context[start:end + 1].text == qa['answer'], f\"{context[start:end + 1].text} -- {qa['answer']}\"\n",
        "\n",
        "add_targets(train_qas)\n",
        "add_targets(valid_qas)\n",
        "print()\n",
        "print(f'Length of train qa pairs before filtering out bad qa pairs: {len(train_qas):,}')\n",
        "print(f'Length of valid qa pairs before filtering out bad qa pairs: {len(valid_qas):,}')\n",
        "train_qas = [*filter(filter_qas, train_qas)]\n",
        "valid_qas = [*filter(filter_qas, valid_qas)]\n",
        "print()\n",
        "print(f'Length of train qa pairs after filtering out bad qa pairs: {len(train_qas):,}')\n",
        "print(f'Length of valid qa pairs after filtering out bad qa pairs: {len(valid_qas):,}')\n",
        "test_targets(train_qas, spacy.load('en'))\n",
        "test_targets(valid_qas, spacy.load('en'))"
      ],
      "execution_count": 8,
      "outputs": [
        {
          "output_type": "stream",
          "text": [
            "100%|██████████| 86821/86821 [01:34<00:00, 917.16it/s]\n",
            "100%|██████████| 20302/20302 [00:23<00:00, 860.10it/s]\n"
          ],
          "name": "stderr"
        },
        {
          "output_type": "stream",
          "text": [
            "\n",
            "Length of train qa pairs before filtering out bad qa pairs: 86,821\n",
            "Length of valid qa pairs before filtering out bad qa pairs: 20,302\n",
            "\n",
            "Length of train qa pairs after filtering out bad qa pairs: 85,835\n",
            "Length of valid qa pairs after filtering out bad qa pairs: 20,094\n"
          ],
          "name": "stdout"
        },
        {
          "output_type": "stream",
          "text": [
            "100%|██████████| 85835/85835 [01:22<00:00, 1040.77it/s]\n",
            "100%|██████████| 20094/20094 [00:12<00:00, 1623.64it/s]"
          ],
          "name": "stderr"
        },
        {
          "output_type": "stream",
          "text": [
            "CPU times: user 5min 13s, sys: 1.9 s, total: 5min 15s\n",
            "Wall time: 5min 15s\n"
          ],
          "name": "stdout"
        },
        {
          "output_type": "stream",
          "text": [
            "\n"
          ],
          "name": "stderr"
        }
      ]
    },
    {
      "cell_type": "markdown",
      "metadata": {
        "id": "3RZYINhagvj1"
      },
      "source": [
        "***Build datasets***"
      ]
    },
    {
      "cell_type": "code",
      "metadata": {
        "id": "ipM5ew0DnQIP"
      },
      "source": [
        "ID = Field(batch_first=True)\n",
        "TEXT = Field(lower=True, tokenizer_language='en', tokenize='spacy', batch_first=True)\n",
        "TARGET = Field(sequential=False, use_vocab=False, batch_first=True)"
      ],
      "execution_count": 9,
      "outputs": []
    },
    {
      "cell_type": "code",
      "metadata": {
        "id": "dHTjO-B0pUkR",
        "outputId": "c1d9a282-6196-4ecf-d658-ed4ae32feb68",
        "colab": {
          "base_uri": "https://localhost:8080/",
          "height": 102
        }
      },
      "source": [
        "train_dataset = Dataset([Example.fromdict(data=qa, fields={\n",
        "    'id': ('id', TEXT),\n",
        "    'context': ('cxt', TEXT),\n",
        "    'question': ('qst', TEXT),\n",
        "    'answer': ('ans', TEXT),\n",
        "    'target': ('trg', TARGET)\n",
        "}) for qa in tqdm.tqdm(train_qas)], fields={'cxt': TEXT, 'qst': TEXT,\n",
        "                                            'ans': TEXT, 'trg': TARGET})\n",
        "valid_dataset = Dataset([Example.fromdict(data=qa, fields={\n",
        "    'id': ('id', TEXT),\n",
        "    'context': ('cxt', TEXT),\n",
        "    'question': ('qst', TEXT),\n",
        "    'answer': ('ans', TEXT),\n",
        "    'target': ('trg', TARGET)\n",
        "}) for qa in tqdm.tqdm(valid_qas)], fields={'cxt': TEXT, 'qst': TEXT,\n",
        "                                            'ans': TEXT, 'trg': TARGET})\n",
        "print()\n",
        "print(f'Train dataset size: {len(train_dataset.examples):,}')\n",
        "print(f'valid dataset size: {len(valid_dataset.examples):,}')"
      ],
      "execution_count": 10,
      "outputs": [
        {
          "output_type": "stream",
          "text": [
            "100%|██████████| 85835/85835 [02:18<00:00, 618.19it/s]\n",
            "100%|██████████| 20094/20094 [00:34<00:00, 581.76it/s]"
          ],
          "name": "stderr"
        },
        {
          "output_type": "stream",
          "text": [
            "\n",
            "Train dataset size: 85,835\n",
            "valid dataset size: 20,094\n"
          ],
          "name": "stdout"
        },
        {
          "output_type": "stream",
          "text": [
            "\n"
          ],
          "name": "stderr"
        }
      ]
    },
    {
      "cell_type": "code",
      "metadata": {
        "id": "yBhRj5JNqR3M",
        "outputId": "7b2287e1-cec7-45f8-9a84-e13f0fd04967",
        "colab": {
          "base_uri": "https://localhost:8080/",
          "height": 85
        }
      },
      "source": [
        "%%time\n",
        "# Build vocabulary\n",
        "TEXT.build_vocab(train_dataset)\n",
        "ID.build_vocab([*map(lambda x: x.id, train_dataset.examples)] + [*map(lambda x: x.id, valid_dataset.examples)])\n",
        "print(f'Length of vocabulary: {len(TEXT.vocab):,}')\n",
        "print(f'Length of ids: {len(ID.vocab):,}')"
      ],
      "execution_count": 11,
      "outputs": [
        {
          "output_type": "stream",
          "text": [
            "Length of vocabulary: 91,390\n",
            "Length of ids: 91,740\n",
            "CPU times: user 2.95 s, sys: 21 ms, total: 2.97 s\n",
            "Wall time: 2.97 s\n"
          ],
          "name": "stdout"
        }
      ]
    },
    {
      "cell_type": "markdown",
      "metadata": {
        "id": "aPE-Js_SYGrY"
      },
      "source": [
        "***Download pretrained GloVe embedding***"
      ]
    },
    {
      "cell_type": "code",
      "metadata": {
        "id": "fvzAqFwcYNGR",
        "outputId": "957bbbdb-ea21-45f9-bec8-5e902ac4423e",
        "colab": {
          "base_uri": "https://localhost:8080/",
          "height": 391
        }
      },
      "source": [
        "%%time\n",
        "!mkdir -p ./data\n",
        "!wget --no-check-certificate \\\n",
        "    http://nlp.stanford.edu/data/glove.840B.300d.zip \\\n",
        "    -O ./data/glove.840B.300d.zip"
      ],
      "execution_count": 12,
      "outputs": [
        {
          "output_type": "stream",
          "text": [
            "--2020-10-11 07:21:35--  http://nlp.stanford.edu/data/glove.840B.300d.zip\n",
            "Resolving nlp.stanford.edu (nlp.stanford.edu)... 171.64.67.140\n",
            "Connecting to nlp.stanford.edu (nlp.stanford.edu)|171.64.67.140|:80... connected.\n",
            "HTTP request sent, awaiting response... 302 Found\n",
            "Location: https://nlp.stanford.edu/data/glove.840B.300d.zip [following]\n",
            "--2020-10-11 07:21:35--  https://nlp.stanford.edu/data/glove.840B.300d.zip\n",
            "Connecting to nlp.stanford.edu (nlp.stanford.edu)|171.64.67.140|:443... connected.\n",
            "HTTP request sent, awaiting response... 301 Moved Permanently\n",
            "Location: http://downloads.cs.stanford.edu/nlp/data/glove.840B.300d.zip [following]\n",
            "--2020-10-11 07:21:35--  http://downloads.cs.stanford.edu/nlp/data/glove.840B.300d.zip\n",
            "Resolving downloads.cs.stanford.edu (downloads.cs.stanford.edu)... 171.64.64.22\n",
            "Connecting to downloads.cs.stanford.edu (downloads.cs.stanford.edu)|171.64.64.22|:80... connected.\n",
            "HTTP request sent, awaiting response... 200 OK\n",
            "Length: 2176768927 (2.0G) [application/zip]\n",
            "Saving to: ‘./data/glove.840B.300d.zip’\n",
            "\n",
            "./data/glove.840B.3 100%[===================>]   2.03G  2.00MB/s    in 16m 54s \n",
            "\n",
            "2020-10-11 07:38:30 (2.05 MB/s) - ‘./data/glove.840B.300d.zip’ saved [2176768927/2176768927]\n",
            "\n",
            "CPU times: user 2.46 s, sys: 551 ms, total: 3.01 s\n",
            "Wall time: 16min 54s\n"
          ],
          "name": "stdout"
        }
      ]
    },
    {
      "cell_type": "code",
      "metadata": {
        "id": "Fr-O3NjtYPfw"
      },
      "source": [
        "!unzip -q ./data/glove.840B.300d.zip -d ./data\n",
        "!rm -r ./data/glove.840B.300d.zip"
      ],
      "execution_count": 13,
      "outputs": []
    },
    {
      "cell_type": "code",
      "metadata": {
        "id": "DQmJYwONcN16",
        "outputId": "52c9d4a3-b545-4624-9a3b-1625283a3bcf",
        "colab": {
          "base_uri": "https://localhost:8080/",
          "height": 34
        }
      },
      "source": [
        "def load_glove(path):\n",
        "    glove = {}\n",
        "    with open(path, mode='r', encoding='utf-8') as file:\n",
        "        for line in tqdm.tqdm(file):\n",
        "            values = line.split(' ')\n",
        "            glove[values[0]] = np.asarray(values[1:], dtype='float32')\n",
        "        return glove\n",
        "\n",
        "glove = load_glove(path='./data/glove.840B.300d.txt')"
      ],
      "execution_count": 14,
      "outputs": [
        {
          "output_type": "stream",
          "text": [
            "2196017it [02:52, 12756.26it/s]\n"
          ],
          "name": "stderr"
        }
      ]
    },
    {
      "cell_type": "code",
      "metadata": {
        "id": "vaZh7XHneKDV",
        "outputId": "e3edc813-2fe5-436d-e548-8857d9cfb4d8",
        "colab": {
          "base_uri": "https://localhost:8080/",
          "height": 51
        }
      },
      "source": [
        "def load_embeddings(glove, field, embedding_size=300, most_common=1000):\n",
        "    most_common_words, most_common_indexes = [*map(lambda x: x[0], field.vocab.freqs.most_common(most_common))], []\n",
        "    embedding_matrix = np.zeros((len(field.vocab), embedding_size))\n",
        "    n_words = 0\n",
        "    for index, word in tqdm.tqdm(enumerate(field.vocab.freqs), total=len(field.vocab)):\n",
        "        if word in most_common_words:\n",
        "            most_common_indexes.append(index)\n",
        "        try:\n",
        "            embedding_matrix[index] = glove[word]\n",
        "            n_words += 1\n",
        "        except KeyError:\n",
        "            pass\n",
        "    return embedding_matrix, n_words, most_common_indexes\n",
        "\n",
        "embedding_matrix, n_words, most_common_indexes = load_embeddings(glove, TEXT)\n",
        "print(f'Words found: {n_words}/{len(TEXT.vocab)}')\n",
        "np.save('./data/GloVe_DrQA.npy', embedding_matrix)"
      ],
      "execution_count": 15,
      "outputs": [
        {
          "output_type": "stream",
          "text": [
            "100%|█████████▉| 91388/91390 [00:01<00:00, 49379.51it/s]\n"
          ],
          "name": "stderr"
        },
        {
          "output_type": "stream",
          "text": [
            "Words found: 64718/91390\n"
          ],
          "name": "stdout"
        }
      ]
    },
    {
      "cell_type": "markdown",
      "metadata": {
        "id": "YYsaVy3hsnHE"
      },
      "source": [
        "## Modeling"
      ]
    },
    {
      "cell_type": "markdown",
      "metadata": {
        "id": "zelMKFUV-ayF"
      },
      "source": [
        "***Stacked Bidirectional LSTM Layer***"
      ]
    },
    {
      "cell_type": "code",
      "metadata": {
        "id": "JA4xvLwGxcfF"
      },
      "source": [
        "class StackedBiLSTMLayer(nn.Module):\n",
        "\n",
        "    def __init__(self, input_size, hidden_size, n_layers, dropout):\n",
        "        super(StackedBiLSTMLayer, self).__init__()\n",
        "        self.input_size = input_size\n",
        "        self.hidden_size = hidden_size\n",
        "        self.n_layers = n_layers\n",
        "        self.dropout = nn.Dropout(p=dropout)\n",
        "        self.lstms = nn.ModuleList([nn.LSTM(input_size=hidden_size * 2 if i > 0 else input_size, hidden_size=hidden_size,\n",
        "                                            bidirectional=True, batch_first=True) for i in range(n_layers)])\n",
        "    \n",
        "    def forward(self, inputs):\n",
        "        \"\"\"\n",
        "        :param Tensor[batch_size, seq_len, input_size]\n",
        "        :return Tensor[batch_size, seq_len, hidden_size * n_layers * 2]\n",
        "        \"\"\"\n",
        "        outputs = [inputs]\n",
        "        for i, lstm in enumerate(self.lstms):\n",
        "            out, _ = lstm(self.dropout(outputs[-1])) # [batch_size, seq_len, hidden_size * 2]\n",
        "            outputs.append(out)\n",
        "        outputs = torch.cat(outputs[1:], dim=-1) # [batch_size, seq_len, hidden_size * n_layers * 2]\n",
        "        return self.dropout(outputs)"
      ],
      "execution_count": 16,
      "outputs": []
    },
    {
      "cell_type": "markdown",
      "metadata": {
        "id": "DZqiiy7wyYrm"
      },
      "source": [
        "***Align Question Embedding Layer***"
      ]
    },
    {
      "cell_type": "code",
      "metadata": {
        "id": "GeFiGiibqS3D"
      },
      "source": [
        "class AlignQuestionEmbeddingLayer(nn.Module):\n",
        "\n",
        "    def __init__(self, hidden_size):\n",
        "        super(AlignQuestionEmbeddingLayer, self).__init__()\n",
        "        self.hidden_size = hidden_size\n",
        "        self.fc = nn.Linear(hidden_size, hidden_size)\n",
        "    \n",
        "    def forward(self, cxt, qst, qst_mask):\n",
        "        \"\"\"\n",
        "        :param Tensor[batch_size, cxt_len, hidden_size] cxt\n",
        "        :param Tensor[batch_size, qst_len, hidden_size] qst\n",
        "        :param Tensor[batch_size, qst_len] mask\n",
        "        :return Tensor[batch_size, cxt_len, hidden_size] context\n",
        "        \"\"\"\n",
        "        cxt = F.relu(self.fc(cxt)) # [batch_size, cxt_len, hidden_size]\n",
        "        qst = F.relu(self.fc(qst)) # [batch_size, qst_len, hidden_size]\n",
        "        scores = torch.bmm(cxt, qst.transpose(-1, -2)) # [batch_size, cxt_len, qst_len]\n",
        "        if qst_mask is not None:\n",
        "            scores = scores.masked_fill(qst_mask.unsqueeze(1) == 0, 1e-18)\n",
        "        attention_weights = F.softmax(scores, dim=-1) # [batch_size, cxt_len, qst_len]\n",
        "        context = torch.bmm(attention_weights, qst) # [batch_size, cxt_len, hidden_size]\n",
        "        return context"
      ],
      "execution_count": 17,
      "outputs": []
    },
    {
      "cell_type": "markdown",
      "metadata": {
        "id": "pkpr81T-z2XA"
      },
      "source": [
        "***Question Encoding Layer***"
      ]
    },
    {
      "cell_type": "code",
      "metadata": {
        "id": "OizoayNez7Le"
      },
      "source": [
        "class QuestionEncodingLayer(nn.Module):\n",
        "\n",
        "    def __init__(self, hidden_size):\n",
        "        super(QuestionEncodingLayer, self).__init__()\n",
        "        self.hidden_size = hidden_size\n",
        "        self.W = nn.Linear(hidden_size, 1)\n",
        "    \n",
        "    def forward(self, qst_sequences, qst_mask):\n",
        "        \"\"\"\n",
        "        :param Tensor[batch_size, seq_len, hidden_size] qst_sequences\n",
        "        :param Tensor[batch_size, seq_len] qst_mask\n",
        "        :return Tensor[batch_size, hidden_size] context\n",
        "        \"\"\"\n",
        "        scores = self.W(qst_sequences) # [batch_size, seq_len, 1]\n",
        "        if qst_mask is not None:\n",
        "            scores = scores.masked_fill(qst_mask.unsqueeze(-1) == 0, 1e-18)\n",
        "        attention_weights = F.softmax(scores, dim=1) # [batch_size, seq_len, 1]\n",
        "        context = torch.bmm(attention_weights.transpose(-1, -2), qst_sequences) # [batch_size, 1, hidden_size]\n",
        "        return context.squeeze(1)"
      ],
      "execution_count": 18,
      "outputs": []
    },
    {
      "cell_type": "markdown",
      "metadata": {
        "id": "tFfqiP4V9k99"
      },
      "source": [
        "***BiLinear Attention Layer***"
      ]
    },
    {
      "cell_type": "code",
      "metadata": {
        "id": "JbPaa3U69oO0"
      },
      "source": [
        "class BiLinearAttentionLayer(nn.Module):\n",
        "\n",
        "    def __init__(self, cxt_size, qst_size):\n",
        "        super(BiLinearAttentionLayer, self).__init__()\n",
        "        self.cxt_size = cxt_size\n",
        "        self.qst_size = qst_size\n",
        "        self.linear = nn.Linear(qst_size, cxt_size)\n",
        "\n",
        "    def forward(self, cxt_encoded, qst_encoded, cxt_mask):\n",
        "        \"\"\"\n",
        "        :param Tensor[batch_size, cxt_len, cxt_size] cxt_encoded\n",
        "        :param Tensor[batch_size, qst_size] qst_encoded\n",
        "        :param Tensor[batch_size, cxt_len] cxt_mask\n",
        "        :param Tensor[batch_size, cxt_len] scores\n",
        "        \"\"\"\n",
        "        qst_encoded = self.linear(qst_encoded) # [batch_size, cxt_size]\n",
        "        scores = torch.bmm(cxt_encoded, qst_encoded.unsqueeze(-1)) # [batch_size, cxt_len, 1]\n",
        "        if cxt_mask is not None:\n",
        "            scores = scores.squeeze(-1).masked_fill(cxt_mask == 0, 1e-18) # [batch_size, cxt_len]\n",
        "        return scores"
      ],
      "execution_count": 19,
      "outputs": []
    },
    {
      "cell_type": "markdown",
      "metadata": {
        "id": "fC8Jh46f-j22"
      },
      "source": [
        "***DrQA Model***"
      ]
    },
    {
      "cell_type": "code",
      "metadata": {
        "id": "j8xrxN8R7Em1"
      },
      "source": [
        "class DrQA(nn.Module):\n",
        "\n",
        "    def __init__(self, vocab_size, embedding_size, hidden_size, n_layers, dropout, pad_index):\n",
        "        super(DrQA, self).__init__()\n",
        "        self.vocab_size = vocab_size\n",
        "        self.embedding_size = embedding_size\n",
        "        self.hidden_size = hidden_size\n",
        "        self.n_layers = n_layers\n",
        "        self.dropout = nn.Dropout(p=dropout)\n",
        "        self.pad_index = pad_index\n",
        "        self.embedding = nn.Embedding(vocab_size, embedding_size)\n",
        "        self.align_question_embedding_layer = AlignQuestionEmbeddingLayer(hidden_size=embedding_size)\n",
        "        self.cxt_stacked_bi_lstm_layer = StackedBiLSTMLayer(input_size=embedding_size * 2, hidden_size=hidden_size, n_layers=n_layers, dropout=dropout)\n",
        "        self.qst_stacked_bi_lstm_layer = StackedBiLSTMLayer(input_size=embedding_size, hidden_size=hidden_size, n_layers=n_layers, dropout=dropout)\n",
        "        self.qst_encoding_layer = QuestionEncodingLayer(hidden_size=hidden_size * n_layers * 2)\n",
        "        self.bilinear_attention_layer_start = BiLinearAttentionLayer(cxt_size=hidden_size * n_layers * 2, qst_size=hidden_size * n_layers * 2)\n",
        "        self.bilinear_attention_layer_end = BiLinearAttentionLayer(cxt_size=hidden_size * n_layers * 2, qst_size=hidden_size * n_layers * 2)\n",
        "\n",
        "    def load_glove_embeddings(self, path, most_common_indexes):\n",
        "        def tune_embeddings(grad, words=most_common_indexes):\n",
        "            grad[most_common_indexes] = 0\n",
        "            return grad\n",
        "        \n",
        "        self.embedding.weight = nn.Parameter(torch.FloatTensor(np.load(path)))\n",
        "        self.embedding.weight.register_hook(tune_embeddings) # Only fine-tune the 1000 most frequent question words\n",
        "\n",
        "    def make_cxt_mask(self, cxt_sequences):\n",
        "        \"\"\"\n",
        "        :param Tensor[batch_size, cxt_len]\n",
        "        :return Tensor[batch_size, cxt_len]\n",
        "        \"\"\"\n",
        "        return cxt_sequences != self.pad_index\n",
        "    \n",
        "    def make_qst_mask(self, qst_sequences):\n",
        "        \"\"\"\n",
        "        :param Tensor[batch_size, qst_len]\n",
        "        :return Tensor[batch_size, qst_len]\n",
        "        \"\"\"\n",
        "        return qst_sequences != self.pad_index\n",
        "    \n",
        "    @staticmethod\n",
        "    def decode(start_scores, end_scores, max_len=None):\n",
        "        \"\"\"\n",
        "        :param Tensor[batch_size, cxt_len] start_scores\n",
        "        :param Tensor[batch_size, cxt_len] end_scores\n",
        "        \"\"\"\n",
        "        pred_start, pred_end, pred_score = [], [], []\n",
        "        max_len = max_len or start_scores.size(1)\n",
        "        for i in range(start_scores.size(0)):\n",
        "            scores = torch.ger(start_scores[i], end_scores[i]) # Outer product of scores to get a full matrix            \n",
        "            scores = scores.triu_().tril_(max_len - 1) # Zero out negative length and over-length span scores\n",
        "            max_scores, max_idx = scores.view(-1).topk(1)\n",
        "            pred_score.append(max_scores)\n",
        "            pred_start.append(max_idx.tolist()[0] // scores.size(0))\n",
        "            pred_end.append(max_idx.tolist()[0] % scores.size(0))\n",
        "        return pred_start, pred_end, pred_score\n",
        "\n",
        "    def forward(self, cxt_sequences, qst_sequences):\n",
        "        \"\"\"\n",
        "        :param Tensor[batch_size, cxt_len] cxt_sequences\n",
        "        :param Tensor[batch_size, qst_len] qst_sequences\n",
        "        :param Tensor[batch_size, cxt_len] cxt_mask\n",
        "        :param Tensor[batch_size, qst_len] qst_mask\n",
        "        :return Tensor[batch_size, cxt_len] start_scores\n",
        "        :return Tensor[batch_size, cxt_len] end_scores\n",
        "        \"\"\"\n",
        "        cxt_mask = self.make_cxt_mask(cxt_sequences) # [batch_size, cxt_len]\n",
        "        qst_mask = self.make_qst_mask(qst_sequences) # [batch_size, cxt_len]\n",
        "        \n",
        "        cxt_embedded = self.dropout(self.embedding(cxt_sequences)) # [batch_size, cxt_len, embedding_size]\n",
        "        qst_embedded = self.dropout(self.embedding(qst_sequences)) # [batch_size, cxt_len, embedding_size]\n",
        "        \n",
        "        cxt_qst_aligned = self.align_question_embedding_layer(cxt=cxt_embedded, qst=qst_embedded, qst_mask=qst_mask) # [batch_size, cxt_len, embedding_size]\n",
        "        cxt_encoded = self.cxt_stacked_bi_lstm_layer(inputs=torch.cat([cxt_embedded, cxt_qst_aligned], dim=-1)) # [batch_size, cxt_len, embedding_size * n_layers * 2]\n",
        "        \n",
        "        qst_lstm = self.qst_stacked_bi_lstm_layer(inputs=qst_embedded) # [batch_size, qst_len, hidden_size * n_layers * 2]\n",
        "        qst_encoded = self.qst_encoding_layer(qst_sequences=qst_lstm, qst_mask=qst_mask) # [batch_size, hidden_size * n_layers * 2]\n",
        "\n",
        "        start_scores = self.bilinear_attention_layer_start(cxt_encoded=cxt_encoded, qst_encoded=qst_encoded, cxt_mask=cxt_mask) # [batch_size, cxt_len]\n",
        "        end_scores = self.bilinear_attention_layer_end(cxt_encoded=cxt_encoded, qst_encoded=qst_encoded, cxt_mask=cxt_mask) # [batch_size, cxt_len]\n",
        "\n",
        "        starts = F.log_softmax(start_scores, dim=1) # [batch_size, cxt_len]\n",
        "        ends = F.log_softmax(end_scores, dim=1) # [batch_size, cxt_len]\n",
        "\n",
        "        return starts, ends"
      ],
      "execution_count": 20,
      "outputs": []
    },
    {
      "cell_type": "markdown",
      "metadata": {
        "id": "oNCQG-tjBHcZ"
      },
      "source": [
        "***Training routines***"
      ]
    },
    {
      "cell_type": "code",
      "metadata": {
        "id": "TBWI7liR6gH2"
      },
      "source": [
        "class AverageMeter:\n",
        "    \n",
        "    def __init__(self):\n",
        "        self.value = 0.\n",
        "        self.sum = 0.\n",
        "        self.count = 0\n",
        "        self.average = 0.\n",
        "        \n",
        "    def reset(self):\n",
        "        self.value = 0.\n",
        "        self.sum = 0.\n",
        "        self.count = 0\n",
        "        self.average = 0.\n",
        "        \n",
        "    def update(self, value, n=1):\n",
        "        self.value = value\n",
        "        self.sum += value * n\n",
        "        self.count += n\n",
        "        self.average = self.sum / self.count"
      ],
      "execution_count": 21,
      "outputs": []
    },
    {
      "cell_type": "code",
      "metadata": {
        "id": "XV2gVekkBMS3"
      },
      "source": [
        "def exact_match_score(predictions, targets):\n",
        "    \"\"\"\n",
        "    :param list[batch_size] predictions\n",
        "    :param list[batch_size] targets\n",
        "    :return float Exact Match score\n",
        "    \"\"\"\n",
        "    return 100.0 * sum(map(lambda y: y[0] == y[1], zip(predictions, targets))) / len(targets)\n",
        "\n",
        "def f1_scores(predictions, targets):\n",
        "    \"\"\"\n",
        "    precision = correct / length_prediction\n",
        "    recall = correct / length_target\n",
        "    f1 = 2 * (precision * recall) / (precision + recall)\n",
        "\n",
        "    :param list[batch_size] predictions\n",
        "    :param list[batch_size] targets\n",
        "    :return float F1 score\n",
        "    \"\"\"\n",
        "    f1_scores = []\n",
        "    for (pred, target) in zip(predictions, targets):\n",
        "        if len(pred) == 0:\n",
        "            f1_scores.append(0)\n",
        "            continue\n",
        "        correct = sum([token in target for token in pred])\n",
        "        precision = correct / len(pred)\n",
        "        recall = correct / len(target)\n",
        "        if precision + recall == 0:\n",
        "            f1_scores.append(0)\n",
        "            continue\n",
        "        f1 = 2 * (precision * recall) / (precision + recall)\n",
        "        f1_scores.append(f1)\n",
        "    return np.mean(f1_scores) * 100.0"
      ],
      "execution_count": 22,
      "outputs": []
    },
    {
      "cell_type": "code",
      "metadata": {
        "id": "72GXApi2H23S"
      },
      "source": [
        "class Trainer:\n",
        "    \n",
        "    def __init__(self, model, optimizer, criterion):\n",
        "        self.model = model\n",
        "        self.optimizer = optimizer\n",
        "        self.criterion = criterion\n",
        "        \n",
        "    def train_step(self, loader, epoch, grad_clip):\n",
        "        loss_tracker = AverageMeter()\n",
        "        self.model.train()\n",
        "        progress_bar = tqdm.tqdm(enumerate(loader), total=len(loader))\n",
        "        for i, batch in progress_bar:\n",
        "            cxt, qst, ans, trg = batch.cxt, batch.qst, batch.ans, batch.trg\n",
        "            self.optimizer.zero_grad()\n",
        "            starts, ends = self.model(cxt_sequences=cxt, qst_sequences=qst) # [batch_size, cxt_len]\n",
        "            loss = self.criterion(starts, trg[:, 0]) + self.criterion(ends, trg[:, 1])\n",
        "            loss.backward()\n",
        "            nn.utils.clip_grad_norm_(self.model.parameters(), grad_clip)\n",
        "            self.optimizer.step()\n",
        "            loss_tracker.update(loss.item())\n",
        "            progress_bar.set_description(f'Epoch: {epoch+1:02d} -     loss: {loss_tracker.average:.3f}%')\n",
        "        return loss_tracker.average\n",
        "    \n",
        "    def validate(self, loader, epoch):\n",
        "        loss_tracker = AverageMeter()\n",
        "        self.model.eval()\n",
        "        with torch.no_grad():\n",
        "            progress_bar = tqdm.tqdm(enumerate(loader), total=len(loader))\n",
        "            for i, batch in progress_bar:\n",
        "                cxt, qst, ans, trg = batch.cxt, batch.qst, batch.ans, batch.trg\n",
        "                starts, ends = self.model(cxt_sequences=cxt, qst_sequences=qst) # [batch_size, cxt_len]\n",
        "                loss = self.criterion(starts, trg[:, 0]) + self.criterion(ends, trg[:, 1])\n",
        "                loss_tracker.update(loss.item())\n",
        "                progress_bar.set_description(f'Epoch: {epoch+1:02d} - val_loss: {loss_tracker.average:.3f}')\n",
        "        return loss_tracker.average\n",
        "    \n",
        "    def train(self, train_loader, valid_loader, n_epochs, grad_clip, max_len):\n",
        "        history, best_loss = {'loss': [], 'val_loss': []}, np.inf\n",
        "        for epoch in range(n_epochs):\n",
        "            loss = self.train_step(train_loader, epoch, grad_clip)\n",
        "            val_loss = self.validate(valid_loader, epoch)\n",
        "            if best_loss > val_loss:\n",
        "                best_loss = val_loss\n",
        "                torch.save(self.model.state_dict(), './checkpoints/DrQA.pth')\n",
        "            history['loss'].append(loss); history['val_loss'].append(val_loss)\n",
        "        return history"
      ],
      "execution_count": 23,
      "outputs": []
    },
    {
      "cell_type": "markdown",
      "metadata": {
        "id": "ZlWgRbN9ROLA"
      },
      "source": [
        "***Train the model***"
      ]
    },
    {
      "cell_type": "code",
      "metadata": {
        "id": "JZ-a11PIRRRq"
      },
      "source": [
        "N_LAYERS = 3\n",
        "HIDDEN_SIZE = 128\n",
        "EMBED_SIZE = 300\n",
        "DROPOUT = 0.3\n",
        "N_EPOCHS = 5\n",
        "BATCH_SIZE = 32\n",
        "GRAD_CLIP = 10.0\n",
        "MAX_LEN = 15"
      ],
      "execution_count": 24,
      "outputs": []
    },
    {
      "cell_type": "code",
      "metadata": {
        "id": "LodDrpgLRo_h",
        "outputId": "b3e7660d-330c-40e0-bfff-c1f7984a0c0c",
        "colab": {
          "base_uri": "https://localhost:8080/",
          "height": 578
        }
      },
      "source": [
        "drqa = DrQA(vocab_size=len(TEXT.vocab), embedding_size=EMBED_SIZE, hidden_size=HIDDEN_SIZE, n_layers=N_LAYERS,\n",
        "            dropout=DROPOUT, pad_index=TEXT.vocab.stoi[TEXT.pad_token])\n",
        "drqa.load_glove_embeddings('./data/GloVe_DrQA.npy', most_common_indexes)\n",
        "drqa.to(DEVICE)\n",
        "optimizer = optim.Adamax(params=drqa.parameters())\n",
        "criterion = nn.NLLLoss(ignore_index=TEXT.vocab.stoi[TEXT.pad_token])\n",
        "print(f'Number of parameters of the model: {sum(p.numel() for p in drqa.parameters() if p.requires_grad):,}')\n",
        "print(drqa)\n",
        "trainer = Trainer(model=drqa, optimizer=optimizer, criterion=criterion)"
      ],
      "execution_count": 25,
      "outputs": [
        {
          "output_type": "stream",
          "text": [
            "Number of parameters of the model: 31,458,149\n",
            "DrQA(\n",
            "  (dropout): Dropout(p=0.3, inplace=False)\n",
            "  (embedding): Embedding(91390, 300)\n",
            "  (align_question_embedding_layer): AlignQuestionEmbeddingLayer(\n",
            "    (fc): Linear(in_features=300, out_features=300, bias=True)\n",
            "  )\n",
            "  (cxt_stacked_bi_lstm_layer): StackedBiLSTMLayer(\n",
            "    (dropout): Dropout(p=0.3, inplace=False)\n",
            "    (lstms): ModuleList(\n",
            "      (0): LSTM(600, 128, batch_first=True, bidirectional=True)\n",
            "      (1): LSTM(256, 128, batch_first=True, bidirectional=True)\n",
            "      (2): LSTM(256, 128, batch_first=True, bidirectional=True)\n",
            "    )\n",
            "  )\n",
            "  (qst_stacked_bi_lstm_layer): StackedBiLSTMLayer(\n",
            "    (dropout): Dropout(p=0.3, inplace=False)\n",
            "    (lstms): ModuleList(\n",
            "      (0): LSTM(300, 128, batch_first=True, bidirectional=True)\n",
            "      (1): LSTM(256, 128, batch_first=True, bidirectional=True)\n",
            "      (2): LSTM(256, 128, batch_first=True, bidirectional=True)\n",
            "    )\n",
            "  )\n",
            "  (qst_encoding_layer): QuestionEncodingLayer(\n",
            "    (W): Linear(in_features=768, out_features=1, bias=True)\n",
            "  )\n",
            "  (bilinear_attention_layer_start): BiLinearAttentionLayer(\n",
            "    (linear): Linear(in_features=768, out_features=768, bias=True)\n",
            "  )\n",
            "  (bilinear_attention_layer_end): BiLinearAttentionLayer(\n",
            "    (linear): Linear(in_features=768, out_features=768, bias=True)\n",
            "  )\n",
            ")\n"
          ],
          "name": "stdout"
        }
      ]
    },
    {
      "cell_type": "code",
      "metadata": {
        "id": "ahAzyTraSsy5",
        "outputId": "8539dad7-b45f-454c-9677-252a902d8d35",
        "colab": {
          "base_uri": "https://localhost:8080/",
          "height": 187
        }
      },
      "source": [
        "train_iterator, valid_iterator =  BucketIterator.splits((train_dataset, valid_dataset), batch_size=BATCH_SIZE, sort=False, device=DEVICE)\n",
        "!mkdir -p ./checkpoints\n",
        "history = trainer.train(train_loader=train_iterator, valid_loader=valid_iterator, n_epochs=N_EPOCHS, grad_clip=GRAD_CLIP, max_len=MAX_LEN)"
      ],
      "execution_count": 26,
      "outputs": [
        {
          "output_type": "stream",
          "text": [
            "Epoch: 01 -     loss: 6.393%: 100%|██████████| 2683/2683 [04:22<00:00, 10.22it/s]\n",
            "Epoch: 01 - val_loss: 5.341: 100%|██████████| 628/628 [00:15<00:00, 39.83it/s]\n",
            "Epoch: 02 -     loss: 5.162%: 100%|██████████| 2683/2683 [04:23<00:00, 10.17it/s]\n",
            "Epoch: 02 - val_loss: 5.017: 100%|██████████| 628/628 [00:15<00:00, 39.88it/s]\n",
            "Epoch: 03 -     loss: 4.718%: 100%|██████████| 2683/2683 [04:23<00:00, 10.17it/s]\n",
            "Epoch: 03 - val_loss: 4.717: 100%|██████████| 628/628 [00:15<00:00, 40.59it/s]\n",
            "Epoch: 04 -     loss: 4.420%: 100%|██████████| 2683/2683 [04:24<00:00, 10.15it/s]\n",
            "Epoch: 04 - val_loss: 4.658: 100%|██████████| 628/628 [00:15<00:00, 41.10it/s]\n",
            "Epoch: 05 -     loss: 4.186%: 100%|██████████| 2683/2683 [04:22<00:00, 10.23it/s]\n",
            "Epoch: 05 - val_loss: 4.459: 100%|██████████| 628/628 [00:15<00:00, 40.54it/s]\n"
          ],
          "name": "stderr"
        }
      ]
    },
    {
      "cell_type": "code",
      "metadata": {
        "id": "17zun4BjVqgW",
        "outputId": "240fba91-61a6-426b-99e2-9bbc5191e3b8",
        "colab": {
          "base_uri": "https://localhost:8080/",
          "height": 295
        }
      },
      "source": [
        "plt.figure()\n",
        "plt.plot(history['loss'], label='train')\n",
        "plt.plot(history['val_loss'], label='valid')\n",
        "plt.title('Loss history')\n",
        "plt.xlabel('Epoch')\n",
        "plt.ylabel('Loss')\n",
        "plt.grid(True)\n",
        "plt.legend()\n",
        "plt.show()"
      ],
      "execution_count": 30,
      "outputs": [
        {
          "output_type": "display_data",
          "data": {
            "image/png": "[encoded data removed]",
            "text/plain": [
              "<Figure size 432x288 with 1 Axes>"
            ]
          },
          "metadata": {
            "tags": [],
            "needs_background": "light"
          }
        }
      ]
    },
    {
      "cell_type": "markdown",
      "metadata": {
        "id": "jNv6RkD8tYhb"
      },
      "source": [
        "## Evaluation"
      ]
    },
    {
      "cell_type": "code",
      "metadata": {
        "id": "RSdUKxAOwwkv"
      },
      "source": [
        ""
      ],
      "execution_count": null,
      "outputs": []
    },
    {
      "cell_type": "markdown",
      "metadata": {
        "id": "0AsQxpqntb_M"
      },
      "source": [
        "## Inference"
      ]
    },
    {
      "cell_type": "code",
      "metadata": {
        "id": "DszQjY3WtdL0"
      },
      "source": [
        ""
      ],
      "execution_count": null,
      "outputs": []
    }
  ]
}